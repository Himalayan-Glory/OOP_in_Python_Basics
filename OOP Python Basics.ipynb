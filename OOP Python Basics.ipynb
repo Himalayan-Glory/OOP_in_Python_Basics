{
 "cells": [
  {
   "cell_type": "markdown",
   "metadata": {},
   "source": [
    "# OOP Python Basics"
   ]
  },
  {
   "cell_type": "code",
   "execution_count": 1,
   "metadata": {},
   "outputs": [],
   "source": [
    "#function\n",
    "def fibonacci(n):\n",
    "    if n==0:\n",
    "        return 0\n",
    "    if n==1:\n",
    "        return 1\n",
    "    return fibonacci(n-1)+fibonacci(n-2)"
   ]
  },
  {
   "cell_type": "code",
   "execution_count": 3,
   "metadata": {},
   "outputs": [
    {
     "data": {
      "text/plain": [
       "55"
      ]
     },
     "execution_count": 3,
     "metadata": {},
     "output_type": "execute_result"
    }
   ],
   "source": [
    "fibonacci(10)"
   ]
  },
  {
   "cell_type": "markdown",
   "metadata": {},
   "source": [
    "### Defining Class"
   ]
  },
  {
   "cell_type": "code",
   "execution_count": 8,
   "metadata": {},
   "outputs": [],
   "source": [
    "class Human():\n",
    "    '''\n",
    "    An Empty Class\n",
    "    \n",
    "    '''\n"
   ]
  },
  {
   "cell_type": "code",
   "execution_count": 9,
   "metadata": {},
   "outputs": [
    {
     "data": {
      "text/plain": [
       "<__main__.Human at 0x7f668cb379b0>"
      ]
     },
     "execution_count": 9,
     "metadata": {},
     "output_type": "execute_result"
    }
   ],
   "source": [
    "ram=Human() #creating instance ram of class Human\n",
    "ram"
   ]
  },
  {
   "cell_type": "code",
   "execution_count": null,
   "metadata": {},
   "outputs": [],
   "source": []
  },
  {
   "cell_type": "code",
   "execution_count": 24,
   "metadata": {},
   "outputs": [],
   "source": [
    "#Defining Student Class with attributes course,gender and age\n",
    "class Student:\n",
    "    course=['Maths','Computer','Nepali']\n",
    "    gender='male'\n",
    "    age=15"
   ]
  },
  {
   "cell_type": "code",
   "execution_count": 25,
   "metadata": {},
   "outputs": [],
   "source": [
    "#Creating nstance ram of class Stundent\n",
    "ram=Student()"
   ]
  },
  {
   "cell_type": "code",
   "execution_count": 26,
   "metadata": {},
   "outputs": [
    {
     "name": "stdout",
     "output_type": "stream",
     "text": [
      "male\n",
      "15\n",
      "['Maths', 'Computer', 'Nepali']\n"
     ]
    }
   ],
   "source": [
    "#accessing the attributes\n",
    "print(ram.gender)\n",
    "print(ram.age)\n",
    "print(ram.course)"
   ]
  },
  {
   "cell_type": "code",
   "execution_count": 28,
   "metadata": {},
   "outputs": [],
   "source": [
    "#Defining Class having methods and attributes\n",
    "class Student():\n",
    "    course=['Maths','Computer','Nepali']\n",
    "    gender='male'\n",
    "    age=15\n",
    "    \n",
    "    def age_after_10_years(self):#method just to increase age by 10\n",
    "        self.age+=10\n",
    "    \n",
    "    "
   ]
  },
  {
   "cell_type": "code",
   "execution_count": 35,
   "metadata": {},
   "outputs": [
    {
     "data": {
      "text/plain": [
       "15"
      ]
     },
     "execution_count": 35,
     "metadata": {},
     "output_type": "execute_result"
    }
   ],
   "source": [
    "#instantializing sita as instance of Student\n",
    "sita=Student()\n",
    "sita.age"
   ]
  },
  {
   "cell_type": "code",
   "execution_count": 36,
   "metadata": {},
   "outputs": [
    {
     "data": {
      "text/plain": [
       "25"
      ]
     },
     "execution_count": 36,
     "metadata": {},
     "output_type": "execute_result"
    }
   ],
   "source": [
    "sita.age_after_10_years()\n",
    "sita.age"
   ]
  },
  {
   "cell_type": "markdown",
   "metadata": {},
   "source": [
    "##### The Constructor Method:  __init__()"
   ]
  },
  {
   "cell_type": "markdown",
   "metadata": {},
   "source": [
    "constructors are called when an object is created from a class and allow the class  initialize the attributes of the class"
   ]
  },
  {
   "cell_type": "code",
   "execution_count": 38,
   "metadata": {},
   "outputs": [],
   "source": [
    "class Student():\n",
    "    def __init__(self,course,age,gender):\n",
    "        self.course=course\n",
    "        self.age=age\n",
    "        self.gender=gender\n",
    "        \n",
    "    def age_after_10_years(self):\n",
    "        self.age+=10\n",
    "        \n",
    "        "
   ]
  },
  {
   "cell_type": "code",
   "execution_count": 41,
   "metadata": {},
   "outputs": [],
   "source": [
    "shyam=Student('English',14,'Male')"
   ]
  },
  {
   "cell_type": "code",
   "execution_count": 45,
   "metadata": {},
   "outputs": [
    {
     "name": "stdout",
     "output_type": "stream",
     "text": [
      "English\n",
      "14\n",
      "Male\n"
     ]
    }
   ],
   "source": [
    "print(shyam.course)\n",
    "print(shyam.age)\n",
    "print(shyam.gender)"
   ]
  },
  {
   "cell_type": "markdown",
   "metadata": {},
   "source": [
    "##### Example next"
   ]
  },
  {
   "cell_type": "code",
   "execution_count": 48,
   "metadata": {},
   "outputs": [],
   "source": [
    "import math\n",
    "class Circle(object):\n",
    "    def __init__(self,radius):\n",
    "        self.radius=radius\n",
    "        \n",
    "    def circumference(self):\n",
    "        return 2.0 * math.pi * self.radius\n",
    "    \n",
    "    def area(self):\n",
    "        return math.pi * self.radius **2"
   ]
  },
  {
   "cell_type": "code",
   "execution_count": 51,
   "metadata": {},
   "outputs": [
    {
     "name": "stdout",
     "output_type": "stream",
     "text": [
      "2\n",
      "12.566370614359172\n",
      "12.566370614359172\n"
     ]
    }
   ],
   "source": [
    "circle1=Circle(2)\n",
    "print(circle1.radius)\n",
    "print(circle1.area())\n",
    "print(circle1.circumference())"
   ]
  },
  {
   "cell_type": "code",
   "execution_count": 54,
   "metadata": {},
   "outputs": [
    {
     "name": "stdout",
     "output_type": "stream",
     "text": [
      "radius: 7\n",
      "area: 153.93804002589985\n",
      "circumference 43.982297150257104\n"
     ]
    }
   ],
   "source": [
    "circle2=Circle(7)\n",
    "print('radius:',circle2.radius)\n",
    "print('area:',circle2.area())\n",
    "print('circumference',circle2.circumference())"
   ]
  },
  {
   "cell_type": "code",
   "execution_count": null,
   "metadata": {},
   "outputs": [],
   "source": []
  },
  {
   "cell_type": "markdown",
   "metadata": {},
   "source": [
    "##### Example Next"
   ]
  },
  {
   "cell_type": "code",
   "execution_count": 71,
   "metadata": {},
   "outputs": [
    {
     "name": "stdout",
     "output_type": "stream",
     "text": [
      "P1 is a bird\n",
      "P2 is also a bird\n",
      "p1 is 10 years old\n",
      "p2 is 15 years old\n"
     ]
    }
   ],
   "source": [
    "class Parrot:\n",
    "    # class attribute\n",
    "    species = \"bird\"\n",
    "\n",
    "    # instance attribute\n",
    "    def __init__(self, name, age):\n",
    "        self.name = name\n",
    "        self.age = age\n",
    "\n",
    "# instantiate the Parrot class\n",
    "p1 = Parrot(\"p1\", 10)\n",
    "p2 = Parrot(\"p2\", 15)\n",
    "\n",
    "# access the class attributes\n",
    "print(\"P1 is a {}\".format(p1.__class__.species))\n",
    "print(\"P2 is also a {}\".format(p2.__class__.species))\n",
    "\n",
    "# access the instance attributes\n",
    "print(\"{} is {} years old\".format(p1.name, p1.age))\n",
    "print(\"{} is {} years old\".format(p2.name, p2.age))"
   ]
  },
  {
   "cell_type": "markdown",
   "metadata": {},
   "source": [
    "##### Example Next"
   ]
  },
  {
   "cell_type": "code",
   "execution_count": 73,
   "metadata": {},
   "outputs": [
    {
     "name": "stdout",
     "output_type": "stream",
     "text": [
      "P1 sings 'Happy'\n",
      "P1 is now dancing\n"
     ]
    }
   ],
   "source": [
    "class Parrot:   \n",
    "    # instance attributes\n",
    "    def __init__(self, name, age):\n",
    "        self.name = name\n",
    "        self.age = age\n",
    "    \n",
    "    # instance methods\n",
    "    def sing(self, song):\n",
    "        return \"{} sings {}\".format(self.name, song)\n",
    "\n",
    "    def dance(self):\n",
    "        return \"{} is now dancing\".format(self.name)\n",
    "\n",
    "# instantiate the object\n",
    "p1 = Parrot(\"P1\", 10)\n",
    "\n",
    "# call our instance methods\n",
    "print(p1.sing(\"'Happy'\"))\n",
    "print(p1.dance())"
   ]
  },
  {
   "cell_type": "markdown",
   "metadata": {},
   "source": [
    "## Inheritance"
   ]
  },
  {
   "cell_type": "raw",
   "metadata": {},
   "source": [
    "class BaseClass:\n",
    "    Body of base class\n",
    "class DerivedClass(BaseClass):\n",
    "    Body of derived class"
   ]
  },
  {
   "cell_type": "code",
   "execution_count": 70,
   "metadata": {},
   "outputs": [
    {
     "name": "stdout",
     "output_type": "stream",
     "text": [
      "Bird is ready\n",
      "Penguin is ready\n",
      "Penguin\n",
      "Swim faster\n",
      "Run faster\n"
     ]
    }
   ],
   "source": [
    "# parent class\n",
    "class Bird:\n",
    "    \n",
    "    def __init__(self):\n",
    "        print(\"Bird is ready\")\n",
    "\n",
    "    def whoisThis(self):\n",
    "        print(\"Bird\")\n",
    "\n",
    "    def swim(self):\n",
    "        print(\"Swim faster\")\n",
    "\n",
    "# child class\n",
    "class Penguin(Bird):\n",
    "\n",
    "    def __init__(self):\n",
    "        # call super() function\n",
    "        super().__init__()\n",
    "        print(\"Penguin is ready\")\n",
    "\n",
    "    def whoisThis(self):\n",
    "        print(\"Penguin\")\n",
    "\n",
    "    def run(self):\n",
    "        print(\"Run faster\")\n",
    "\n",
    "peng = Penguin()\n",
    "peng.whoisThis()\n",
    "peng.swim()\n",
    "peng.run()"
   ]
  },
  {
   "cell_type": "raw",
   "metadata": {},
   "source": [
    "Multiple Inheritance\n",
    "--------------------------------\n",
    "class Base1:\n",
    "    pass\n",
    "class Base2:\n",
    "    pass\n",
    "class MultiDerived(Base1, Base2):\n",
    "    pass\n",
    "\n",
    "Multilevel Inheritance\n",
    "--------------------------------\n",
    "class Base:\n",
    "    pass\n",
    "class Derived1(Base):\n",
    "    pass\n",
    "class Derived2(Derived1):\n",
    "    pass"
   ]
  },
  {
   "cell_type": "markdown",
   "metadata": {},
   "source": [
    "## Polymorphism"
   ]
  },
  {
   "cell_type": "code",
   "execution_count": 74,
   "metadata": {},
   "outputs": [
    {
     "name": "stdout",
     "output_type": "stream",
     "text": [
      "Parrot can fly\n",
      "Penguin can't fly\n"
     ]
    }
   ],
   "source": [
    "class Parrot:\n",
    "    def fly(self):\n",
    "        print(\"Parrot can fly\")    \n",
    "    def swim(self):\n",
    "        print(\"Parrot can't swim\")\n",
    "\n",
    "class Penguin:\n",
    "    def fly(self):\n",
    "        print(\"Penguin can't fly\")    \n",
    "    def swim(self):\n",
    "        print(\"Penguin can swim\")\n",
    "\n",
    "# common interface\n",
    "def flying_test(bird):#this method can take object from any classes\n",
    "    bird.fly()\n",
    "\n",
    "#instantiate objects\n",
    "par = Parrot()\n",
    "peng = Penguin()\n",
    "\n",
    "# passing the object\n",
    "flying_test(par)\n",
    "flying_test(peng)"
   ]
  },
  {
   "cell_type": "markdown",
   "metadata": {},
   "source": [
    "###### operator overloading"
   ]
  },
  {
   "cell_type": "code",
   "execution_count": 77,
   "metadata": {},
   "outputs": [
    {
     "name": "stdout",
     "output_type": "stream",
     "text": [
      "6\n",
      "HelloWorld\n"
     ]
    }
   ],
   "source": [
    "class One: \n",
    "    def __init__(self, x): \n",
    "        self.x = x \n",
    "  \n",
    "    # adding two objects  \n",
    "    def __add__(self, y): \n",
    "        return self.x + y.x  \n",
    "ob1 = One(4) \n",
    "ob2 = One(2) \n",
    "ob3 = One(\"Hello\") \n",
    "ob4 = One(\"World\") \n",
    "  \n",
    "print(ob1 + ob2) \n",
    "print(ob3 + ob4) "
   ]
  }
 ],
 "metadata": {
  "kernelspec": {
   "display_name": "Python 3",
   "language": "python",
   "name": "python3"
  },
  "language_info": {
   "codemirror_mode": {
    "name": "ipython",
    "version": 3
   },
   "file_extension": ".py",
   "mimetype": "text/x-python",
   "name": "python",
   "nbconvert_exporter": "python",
   "pygments_lexer": "ipython3",
   "version": "3.7.3"
  }
 },
 "nbformat": 4,
 "nbformat_minor": 2
}
